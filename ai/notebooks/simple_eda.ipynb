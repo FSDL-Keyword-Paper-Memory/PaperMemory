{
 "cells": [
  {
   "cell_type": "code",
   "execution_count": 1,
   "metadata": {},
   "outputs": [],
   "source": [
    "import pandas as pd\n",
    "from collections import Counter"
   ]
  },
  {
   "cell_type": "markdown",
   "metadata": {},
   "source": [
    "### Read dataset"
   ]
  },
  {
   "cell_type": "code",
   "execution_count": 2,
   "metadata": {},
   "outputs": [
    {
     "data": {
      "text/html": [
       "<div>\n",
       "<style scoped>\n",
       "    .dataframe tbody tr th:only-of-type {\n",
       "        vertical-align: middle;\n",
       "    }\n",
       "\n",
       "    .dataframe tbody tr th {\n",
       "        vertical-align: top;\n",
       "    }\n",
       "\n",
       "    .dataframe thead th {\n",
       "        text-align: right;\n",
       "    }\n",
       "</style>\n",
       "<table border=\"1\" class=\"dataframe\">\n",
       "  <thead>\n",
       "    <tr style=\"text-align: right;\">\n",
       "      <th></th>\n",
       "      <th>id</th>\n",
       "      <th>primary_category</th>\n",
       "      <th>title</th>\n",
       "      <th>authors</th>\n",
       "      <th>published</th>\n",
       "      <th>abstract</th>\n",
       "      <th>pdf_url</th>\n",
       "    </tr>\n",
       "  </thead>\n",
       "  <tbody>\n",
       "    <tr>\n",
       "      <th>0</th>\n",
       "      <td>http://arxiv.org/abs/2209.06203v1</td>\n",
       "      <td>cs.LG</td>\n",
       "      <td>Normalizing Flows for Interventional Density E...</td>\n",
       "      <td>[Valentyn Melnychuk, Dennis Frauen, Stefan Feu...</td>\n",
       "      <td>1663091773</td>\n",
       "      <td>Existing machine learning methods for causal i...</td>\n",
       "      <td>http://arxiv.org/pdf/2209.06203v1</td>\n",
       "    </tr>\n",
       "    <tr>\n",
       "      <th>1</th>\n",
       "      <td>http://arxiv.org/abs/2209.06192v1</td>\n",
       "      <td>cs.CV</td>\n",
       "      <td>StoryDALL-E: Adapting Pretrained Text-to-Image...</td>\n",
       "      <td>[Adyasha Maharana, Darryl Hannan, Mohit Bansal]</td>\n",
       "      <td>1663091259</td>\n",
       "      <td>Recent advances in text-to-image synthesis hav...</td>\n",
       "      <td>http://arxiv.org/pdf/2209.06192v1</td>\n",
       "    </tr>\n",
       "  </tbody>\n",
       "</table>\n",
       "</div>"
      ],
      "text/plain": [
       "                                  id primary_category  \\\n",
       "0  http://arxiv.org/abs/2209.06203v1            cs.LG   \n",
       "1  http://arxiv.org/abs/2209.06192v1            cs.CV   \n",
       "\n",
       "                                               title  \\\n",
       "0  Normalizing Flows for Interventional Density E...   \n",
       "1  StoryDALL-E: Adapting Pretrained Text-to-Image...   \n",
       "\n",
       "                                             authors   published  \\\n",
       "0  [Valentyn Melnychuk, Dennis Frauen, Stefan Feu...  1663091773   \n",
       "1    [Adyasha Maharana, Darryl Hannan, Mohit Bansal]  1663091259   \n",
       "\n",
       "                                            abstract  \\\n",
       "0  Existing machine learning methods for causal i...   \n",
       "1  Recent advances in text-to-image synthesis hav...   \n",
       "\n",
       "                             pdf_url  \n",
       "0  http://arxiv.org/pdf/2209.06203v1  \n",
       "1  http://arxiv.org/pdf/2209.06192v1  "
      ]
     },
     "execution_count": 2,
     "metadata": {},
     "output_type": "execute_result"
    }
   ],
   "source": [
    "df = pd.read_json('../abstract_scraper/dataset_2022-09-14 21:23:59.588839.json')\n",
    "df.head(2)"
   ]
  },
  {
   "cell_type": "markdown",
   "metadata": {},
   "source": [
    "### Check for duplicates"
   ]
  },
  {
   "cell_type": "code",
   "execution_count": 3,
   "metadata": {},
   "outputs": [
    {
     "name": "stdout",
     "output_type": "stream",
     "text": [
      "All rows: 1727509\n",
      "Distinct abstracts: 1726441\n"
     ]
    }
   ],
   "source": [
    "print(f'All rows: {df.shape[0]}')\n",
    "print(f'Distinct abstracts: {df.abstract.nunique()}')"
   ]
  },
  {
   "cell_type": "code",
   "execution_count": 4,
   "metadata": {},
   "outputs": [
    {
     "data": {
      "text/plain": [
       "This paper has been withdrawn.                                                                                                                                                                                                                                                                                                                                                                                                                                                                                                                                                                                                                                                                                                                                                                                                                                                                                                                                                                                                                                                                                                                                                                                                                                                                                                                                                                                                                                                  41\n",
       "This paper has been withdrawn by the author.                                                                                                                                                                                                                                                                                                                                                                                                                                                                                                                                                                                                                                                                                                                                                                                                                                                                                                                                                                                                                                                                                                                                                                                                                                                                                                                                                                                                                                    34\n",
       "This paper has been withdrawn by the authors.                                                                                                                                                                                                                                                                                                                                                                                                                                                                                                                                                                                                                                                                                                                                                                                                                                                                                                                                                                                                                                                                                                                                                                                                                                                                                                                                                                                                                                   21\n",
       "This paper has been withdrawn                                                                                                                                                                                                                                                                                                                                                                                                                                                                                                                                                                                                                                                                                                                                                                                                                                                                                                                                                                                                                                                                                                                                                                                                                                                                                                                                                                                                                                                   19\n",
       "This paper has been withdrawn by the author                                                                                                                                                                                                                                                                                                                                                                                                                                                                                                                                                                                                                                                                                                                                                                                                                                                                                                                                                                                                                                                                                                                                                                                                                                                                                                                                                                                                                                     13\n",
       "                                                                                                                                                                                                                                                                                                                                                                                                                                                                                                                                                                                                                                                                                                                                                                                                                                                                                                                                                                                                                                                                                                                                                                                                                                                                                                                                                                                                                                                                                ..\n",
       "We propose a quantitative direct method of proving the stability result for\\nGaussian rough differential equations in the sense of Gubinelli\\n\\cite{gubinelli}. Under the strongly dissipative assumption of the drift\\ncoefficient function, we prove that the trivial solution of the system under\\nsmall noise is exponentially stable.                                                                                                                                                                                                                                                                                                                                                                                                                                                                                                                                                                                                                                                                                                                                                                                                                                                                                                                                                                                                                                                                                                                                       2\n",
       "In this paper, we propose a computationally efficient iterative algorithm for\\nproper orthogonal decomposition (POD) using random sampling based techniques.\\nIn this algorithm, additional rows and columns are sampled and a merging\\ntechnique is used to update the dominant POD modes in each iteration. We derive\\nbounds for the spectral norm of the error introduced by a series of merging\\noperations. We use an existing theorem to get an approximate measure of the\\nquality of subspaces obtained on convergence of the iteration. Results on\\nvarious datasets indicate that the POD modes and/or the subspaces are\\napproximated with excellent accuracy with a significant runtime improvement\\nover computing the truncated SVD. We also propose a method to compute the POD\\nmodes of large matrices that do not fit in the RAM using this iterative\\nsampling and merging algorithms.                                                                                                                                                                                                                                                                                                                                                                                                                                                                                                                                                                       2\n",
       "The paper studies properties of functional dependencies between strategies of\\nplayers in Nash equilibria of multi-player strategic games. The main focus is\\non the properties of functional dependencies in the context of a fixed\\ndependency graph for pay-off functions. A logical system describing properties\\nof functional dependence for any given graph is proposed and is proven to be\\ncomplete.                                                                                                                                                                                                                                                                                                                                                                                                                                                                                                                                                                                                                                                                                                                                                                                                                                                                                                                                                                                                                                                                    2\n",
       "The $2n$ dimensional manifold with two mutually commutative operators of\\ndifferentiation is introduced. Nontrivial multidimensional integrable systems\\nconnected with arbitrary graded (semisimple) algebras are constructed. The\\ngeneral solution of them is presented in explicit form.                                                                                                                                                                                                                                                                                                                                                                                                                                                                                                                                                                                                                                                                                                                                                                                                                                                                                                                                                                                                                                                                                                                                                                                     2\n",
       "In many applications that require matrix solutions of minimal rank, the\\nunderlying cost function is non-convex leading to an intractable, NP-hard\\noptimization problem. Consequently, the convex nuclear norm is frequently used\\nas a surrogate penalty term for matrix rank. The problem is that in many\\npractical scenarios there is no longer any guarantee that we can correctly\\nestimate generative low-rank matrices of interest, theoretical special cases\\nnotwithstanding. Consequently, this paper proposes an alternative empirical\\nBayesian procedure build upon a variational approximation that, unlike the\\nnuclear norm, retains the same globally minimizing point estimate as the rank\\nfunction under many useful constraints. However, locally minimizing solutions\\nare largely smoothed away via marginalization, allowing the algorithm to\\nsucceed when standard convex relaxations completely fail. While the proposed\\nmethodology is generally applicable to a wide range of low-rank applications,\\nwe focus our attention on the robust principal component analysis problem\\n(RPCA), which involves estimating an unknown low-rank matrix with unknown\\nsparse corruptions. Theoretical and empirical evidence are presented to show\\nthat our method is potentially superior to related MAP-based approaches, for\\nwhich the convex principle component pursuit (PCP) algorithm (Candes et al.,\\n2011) can be viewed as a special case.     2\n",
       "Name: abstract, Length: 800, dtype: int64"
      ]
     },
     "execution_count": 4,
     "metadata": {},
     "output_type": "execute_result"
    }
   ],
   "source": [
    "df.abstract.value_counts()[df.abstract.value_counts() > 1]"
   ]
  },
  {
   "cell_type": "markdown",
   "metadata": {},
   "source": [
    "#### Drop duplicates"
   ]
  },
  {
   "cell_type": "code",
   "execution_count": 5,
   "metadata": {},
   "outputs": [
    {
     "name": "stdout",
     "output_type": "stream",
     "text": [
      "All rows: 1726441\n",
      "Distinct abstracts: 1726441\n"
     ]
    }
   ],
   "source": [
    "df = df.drop_duplicates(subset=['abstract'], keep='first')\n",
    "print(f'All rows: {df.shape[0]}')\n",
    "print(f'Distinct abstracts: {df.abstract.nunique()}')"
   ]
  },
  {
   "cell_type": "markdown",
   "metadata": {},
   "source": [
    "#### Remove abstracts for withdrawn papers"
   ]
  },
  {
   "cell_type": "code",
   "execution_count": 6,
   "metadata": {},
   "outputs": [
    {
     "name": "stderr",
     "output_type": "stream",
     "text": [
      "/var/folders/rm/mnpcbkb172z3w2vntl7yjgjw0000gn/T/ipykernel_44577/1433976102.py:2: UserWarning: This pattern is interpreted as a regular expression, and has match groups. To actually get the groups, use str.extract.\n",
      "  df = df[~df.abstract.str.contains(pattern, case=False, regex=True)]\n"
     ]
    },
    {
     "name": "stdout",
     "output_type": "stream",
     "text": [
      "All rows: 1725868\n",
      "Distinct abstracts: 1725868\n"
     ]
    }
   ],
   "source": [
    "pattern = r\"(paper has been withdrawn)|(withdrawn due to)\"\n",
    "df = df[~df.abstract.str.contains(pattern, case=False, regex=True)]\n",
    "print(f'All rows: {df.shape[0]}')\n",
    "print(f'Distinct abstracts: {df.abstract.nunique()}')"
   ]
  },
  {
   "cell_type": "markdown",
   "metadata": {},
   "source": [
    "### Abstract length distribution"
   ]
  },
  {
   "cell_type": "code",
   "execution_count": 7,
   "metadata": {},
   "outputs": [
    {
     "data": {
      "text/html": [
       "<div>\n",
       "<style scoped>\n",
       "    .dataframe tbody tr th:only-of-type {\n",
       "        vertical-align: middle;\n",
       "    }\n",
       "\n",
       "    .dataframe tbody tr th {\n",
       "        vertical-align: top;\n",
       "    }\n",
       "\n",
       "    .dataframe thead th {\n",
       "        text-align: right;\n",
       "    }\n",
       "</style>\n",
       "<table border=\"1\" class=\"dataframe\">\n",
       "  <thead>\n",
       "    <tr style=\"text-align: right;\">\n",
       "      <th></th>\n",
       "      <th>id</th>\n",
       "      <th>primary_category</th>\n",
       "      <th>title</th>\n",
       "      <th>authors</th>\n",
       "      <th>published</th>\n",
       "      <th>abstract</th>\n",
       "      <th>pdf_url</th>\n",
       "      <th>abstract_len</th>\n",
       "    </tr>\n",
       "  </thead>\n",
       "  <tbody>\n",
       "    <tr>\n",
       "      <th>0</th>\n",
       "      <td>http://arxiv.org/abs/2209.06203v1</td>\n",
       "      <td>cs.LG</td>\n",
       "      <td>Normalizing Flows for Interventional Density E...</td>\n",
       "      <td>[Valentyn Melnychuk, Dennis Frauen, Stefan Feu...</td>\n",
       "      <td>1663091773</td>\n",
       "      <td>Existing machine learning methods for causal i...</td>\n",
       "      <td>http://arxiv.org/pdf/2209.06203v1</td>\n",
       "      <td>183</td>\n",
       "    </tr>\n",
       "    <tr>\n",
       "      <th>1</th>\n",
       "      <td>http://arxiv.org/abs/2209.06192v1</td>\n",
       "      <td>cs.CV</td>\n",
       "      <td>StoryDALL-E: Adapting Pretrained Text-to-Image...</td>\n",
       "      <td>[Adyasha Maharana, Darryl Hannan, Mohit Bansal]</td>\n",
       "      <td>1663091259</td>\n",
       "      <td>Recent advances in text-to-image synthesis hav...</td>\n",
       "      <td>http://arxiv.org/pdf/2209.06192v1</td>\n",
       "      <td>260</td>\n",
       "    </tr>\n",
       "  </tbody>\n",
       "</table>\n",
       "</div>"
      ],
      "text/plain": [
       "                                  id primary_category  \\\n",
       "0  http://arxiv.org/abs/2209.06203v1            cs.LG   \n",
       "1  http://arxiv.org/abs/2209.06192v1            cs.CV   \n",
       "\n",
       "                                               title  \\\n",
       "0  Normalizing Flows for Interventional Density E...   \n",
       "1  StoryDALL-E: Adapting Pretrained Text-to-Image...   \n",
       "\n",
       "                                             authors   published  \\\n",
       "0  [Valentyn Melnychuk, Dennis Frauen, Stefan Feu...  1663091773   \n",
       "1    [Adyasha Maharana, Darryl Hannan, Mohit Bansal]  1663091259   \n",
       "\n",
       "                                            abstract  \\\n",
       "0  Existing machine learning methods for causal i...   \n",
       "1  Recent advances in text-to-image synthesis hav...   \n",
       "\n",
       "                             pdf_url  abstract_len  \n",
       "0  http://arxiv.org/pdf/2209.06203v1           183  \n",
       "1  http://arxiv.org/pdf/2209.06192v1           260  "
      ]
     },
     "execution_count": 7,
     "metadata": {},
     "output_type": "execute_result"
    }
   ],
   "source": [
    "# space-splitted tokens\n",
    "df['abstract_len'] = df.abstract.apply(lambda x: len(x.split()))\n",
    "df.head(2)"
   ]
  },
  {
   "cell_type": "code",
   "execution_count": 8,
   "metadata": {},
   "outputs": [
    {
     "data": {
      "image/png": "[encoded data removed]",
      "text/plain": [
       "<Figure size 640x480 with 1 Axes>"
      ]
     },
     "metadata": {},
     "output_type": "display_data"
    }
   ],
   "source": [
    "df.abstract_len.plot(kind='hist', bins=150);"
   ]
  },
  {
   "cell_type": "code",
   "execution_count": 9,
   "metadata": {},
   "outputs": [
    {
     "data": {
      "text/plain": [
       "count    1.725868e+06\n",
       "mean     1.397040e+02\n",
       "std      6.383279e+01\n",
       "min      1.000000e+00\n",
       "25%      9.100000e+01\n",
       "50%      1.340000e+02\n",
       "75%      1.830000e+02\n",
       "max      9.250000e+02\n",
       "Name: abstract_len, dtype: float64"
      ]
     },
     "execution_count": 9,
     "metadata": {},
     "output_type": "execute_result"
    }
   ],
   "source": [
    "df.abstract_len.describe()"
   ]
  },
  {
   "cell_type": "code",
   "execution_count": 10,
   "metadata": {},
   "outputs": [
    {
     "data": {
      "text/plain": [
       "1169727    925\n",
       "1076850    760\n",
       "1694575    655\n",
       "1616494    617\n",
       "452998     587\n",
       "875011     584\n",
       "493957     575\n",
       "173002     567\n",
       "46192      558\n",
       "1608521    555\n",
       "Name: abstract_len, dtype: int64"
      ]
     },
     "execution_count": 10,
     "metadata": {},
     "output_type": "execute_result"
    }
   ],
   "source": [
    "df.abstract_len.nlargest(10)"
   ]
  },
  {
   "cell_type": "code",
   "execution_count": 11,
   "metadata": {},
   "outputs": [
    {
     "data": {
      "text/plain": [
       "370.0"
      ]
     },
     "execution_count": 11,
     "metadata": {},
     "output_type": "execute_result"
    }
   ],
   "source": [
    "df.abstract_len.quantile(0.9999)"
   ]
  },
  {
   "cell_type": "markdown",
   "metadata": {},
   "source": [
    "#### 99.99% of all the abstracts have length smaller than or equal 370 space splitted tokens. Most of the popular models could process a whole abstract."
   ]
  },
  {
   "cell_type": "markdown",
   "metadata": {},
   "source": [
    "### Abstract chars distribution (on a sample)"
   ]
  },
  {
   "cell_type": "code",
   "execution_count": 12,
   "metadata": {},
   "outputs": [],
   "source": [
    "c = Counter()\n",
    "for _, row in df.sample(1000, random_state=42).iterrows():\n",
    "    abstract = row.abstract.lower()\n",
    "    for char in abstract:\n",
    "        if c.get(char):\n",
    "            c[char] += 1\n",
    "        else:\n",
    "            c[char] = 1"
   ]
  },
  {
   "cell_type": "code",
   "execution_count": 13,
   "metadata": {},
   "outputs": [
    {
     "data": {
      "text/plain": [
       "[(' ', 126500),\n",
       " ('e', 91400),\n",
       " ('t', 70536),\n",
       " ('i', 62009),\n",
       " ('a', 61362),\n",
       " ('o', 56382),\n",
       " ('n', 55746),\n",
       " ('s', 51589),\n",
       " ('r', 48967),\n",
       " ('l', 32426),\n",
       " ('c', 30112),\n",
       " ('h', 28952),\n",
       " ('d', 26329),\n",
       " ('m', 22097),\n",
       " ('u', 20499),\n",
       " ('p', 20211),\n",
       " ('f', 18194),\n",
       " ('g', 14726),\n",
       " ('\\n', 11856),\n",
       " ('b', 10759),\n",
       " ('y', 10754),\n",
       " ('w', 10019),\n",
       " ('v', 8801),\n",
       " ('.', 6467),\n",
       " (',', 5790),\n",
       " ('-', 4461),\n",
       " ('$', 4017),\n",
       " ('x', 3147),\n",
       " ('k', 3107),\n",
       " ('\\\\', 2409),\n",
       " ('q', 1865),\n",
       " (')', 1696),\n",
       " ('(', 1674),\n",
       " ('z', 1385),\n",
       " ('{', 1268),\n",
       " ('}', 1268),\n",
       " ('0', 1181),\n",
       " ('1', 1111),\n",
       " ('2', 1017),\n",
       " ('_', 862),\n",
       " ('^', 684),\n",
       " ('j', 641),\n",
       " ('3', 517),\n",
       " ('5', 368),\n",
       " (\"'\", 350),\n",
       " ('4', 342),\n",
       " ('=', 299),\n",
       " ('/', 291),\n",
       " ('6', 276),\n",
       " ('9', 243)]"
      ]
     },
     "execution_count": 13,
     "metadata": {},
     "output_type": "execute_result"
    }
   ],
   "source": [
    "c.most_common(50)"
   ]
  },
  {
   "cell_type": "code",
   "execution_count": 14,
   "metadata": {},
   "outputs": [],
   "source": [
    "def show_abstract_contained_char(char: str) -> None:\n",
    "    dff = df[df.abstract.str.contains(char, case=False, regex=False)].head(3)\n",
    "    for _, row in dff.iterrows():\n",
    "        print(\"-\"*50)\n",
    "        print(row.abstract)\n"
   ]
  },
  {
   "cell_type": "code",
   "execution_count": 15,
   "metadata": {},
   "outputs": [
    {
     "name": "stdout",
     "output_type": "stream",
     "text": [
      "--------------------------------------------------\n",
      "Ever since the Multilayered Perceptron was first introduced the connectionist\n",
      "community has struggled with the concept of uncertainty and how this could be\n",
      "represented in these types of models. This past decade has seen a lot of effort\n",
      "in trying to join the principled approach of probabilistic modeling with the\n",
      "scalable nature of deep neural networks. While the theoretical benefits of this\n",
      "consolidation are clear, there are also several important practical aspects of\n",
      "these endeavors; namely to force the models we create to represent, learn, and\n",
      "report uncertainty in every prediction that is made. Many of these efforts have\n",
      "been based on extending existing frameworks with additional structures. We\n",
      "present Borch, a scalable deep universal probabilistic programming language,\n",
      "built on top of PyTorch. The code is available for download and use in our\n",
      "repository https://gitlab.com/desupervised/borch.\n",
      "--------------------------------------------------\n",
      "Can foundation models be guided to execute tasks involving legal reasoning?\n",
      "We believe that building a benchmark to answer this question will require\n",
      "sustained collaborative efforts between the computer science and legal\n",
      "communities. To that end, this short paper serves three purposes. First, we\n",
      "describe how IRAC-a framework legal scholars use to distinguish different types\n",
      "of legal reasoning-can guide the construction of a Foundation Model oriented\n",
      "benchmark. Second, we present a seed set of 44 tasks built according to this\n",
      "framework. We discuss initial findings, and highlight directions for new tasks.\n",
      "Finally-inspired by the Open Science movement-we make a call for the legal and\n",
      "computer science communities to join our efforts by contributing new tasks.\n",
      "This work is ongoing, and our progress can be tracked here:\n",
      "https://github.com/HazyResearch/legalbench.\n",
      "--------------------------------------------------\n",
      "Cardiac magnetic resonance (CMR) sequences visualise the cardiac function\n",
      "voxel-wise over time. Simultaneously, deep learning-based deformable image\n",
      "registration is able to estimate discrete vector fields which warp one time\n",
      "step of a CMR sequence to the following in a self-supervised manner. However,\n",
      "despite the rich source of information included in these 3D+t vector fields, a\n",
      "standardised interpretation is challenging and the clinical applications remain\n",
      "limited so far. In this work, we show how to efficiently use a deformable\n",
      "vector field to describe the underlying dynamic process of a cardiac cycle in\n",
      "form of a derived 1D motion descriptor. Additionally, based on the expected\n",
      "cardiovascular physiological properties of a contracting or relaxing ventricle,\n",
      "we define a set of rules that enables the identification of five cardiovascular\n",
      "phases including the end-systole (ES) and end-diastole (ED) without the usage\n",
      "of labels. We evaluate the plausibility of the motion descriptor on two\n",
      "challenging multi-disease, -center, -scanner short-axis CMR datasets. First, by\n",
      "reporting quantitative measures such as the periodic frame difference for the\n",
      "extracted phases. Second, by comparing qualitatively the general pattern when\n",
      "we temporally resample and align the motion descriptors of all instances across\n",
      "both datasets. The average periodic frame difference for the ED, ES key phases\n",
      "of our approach is $0.80\\pm{0.85}$, $0.69\\pm{0.79}$ which is slightly better\n",
      "than the inter-observer variability ($1.07\\pm{0.86}$, $0.91\\pm{1.6}$) and the\n",
      "supervised baseline method ($1.18\\pm{1.91}$, $1.21\\pm{1.78}$). Code and labels\n",
      "will be made available on our GitHub repository.\n",
      "https://github.com/Cardio-AI/cmr-phase-detection\n"
     ]
    }
   ],
   "source": [
    "show_abstract_contained_char('https')"
   ]
  },
  {
   "cell_type": "markdown",
   "metadata": {},
   "source": [
    "Remarks:\n",
    "* new lines\n",
    "* latex equations and variables\n",
    "* urls\n",
    "* \\\\\\\\ - escapes\n"
   ]
  },
  {
   "cell_type": "markdown",
   "metadata": {},
   "source": []
  }
 ],
 "metadata": {
  "kernelspec": {
   "display_name": "Python 3.10.6 ('.venv': venv)",
   "language": "python",
   "name": "python3"
  },
  "language_info": {
   "codemirror_mode": {
    "name": "ipython",
    "version": 3
   },
   "file_extension": ".py",
   "mimetype": "text/x-python",
   "name": "python",
   "nbconvert_exporter": "python",
   "pygments_lexer": "ipython3",
   "version": "3.10.6"
  },
  "orig_nbformat": 4,
  "vscode": {
   "interpreter": {
    "hash": "6da5681a051e4f4e1cbfe45d3e8c367170b9d83829ae496ade674265ef6aede2"
   }
  }
 },
 "nbformat": 4,
 "nbformat_minor": 2
}
